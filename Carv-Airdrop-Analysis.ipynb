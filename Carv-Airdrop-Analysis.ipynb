{
 "cells": [
  {
   "cell_type": "markdown",
   "id": "29b75abd-0146-4701-88b5-6587e115ce87",
   "metadata": {},
   "source": [
    "# Carv Airdrop Analysis"
   ]
  },
  {
   "cell_type": "code",
   "execution_count": 66,
   "id": "0f3d1fb4-c52c-4834-b871-f2d4ae37d12c",
   "metadata": {},
   "outputs": [],
   "source": [
    "# Import necessary libraries\n",
    "import pandas as pd\n",
    "import numpy as np\n",
    "import matplotlib.pyplot as plt\n",
    "import seaborn as sns\n",
    "import warnings\n",
    "warnings.filterwarnings('ignore')"
   ]
  },
  {
   "cell_type": "code",
   "execution_count": 68,
   "id": "c21a165f-a45a-4057-af28-c0f277bcdeda",
   "metadata": {},
   "outputs": [
    {
     "name": "stdout",
     "output_type": "stream",
     "text": [
      "Carv Node Sale Dataset:\n",
      "   tier   PRICE  NOSOLD  TOTALSOLD\n",
      "0   T10  0.4217     2.0     0.8434\n",
      "1  PT02  0.1580  1900.0   300.2000\n",
      "2  PT03  0.1817  2613.0   474.7821\n",
      "3  PT05  0.2340  3500.0   819.0000\n",
      "4  PT04  0.2071  2625.0   543.6375\n",
      "\n",
      "Avgprice Dataset:\n",
      "                                        BUYER  nodes  TOTALPAID  AVGPRICE\n",
      "0  0xc402ae3f61d6eb98b85ee7c11ed5f6a13e314af0      1     0.2633  0.263300\n",
      "1  0x6a8b14912fe74baedd196e1904d0d2a9b29f966f     33    12.8784  0.390255\n",
      "2  0x16edbf03fa522d5cce0064e76405237f3234b53a     21     5.6409  0.268614\n",
      "3  0x0a9be70a67e8b7e20b1a67881b963fabf4babeb2      1     0.4217  0.421700\n",
      "4  0x7e0867be60257243586431cde9d8623eff1aacd9      1     0.4217  0.421700\n"
     ]
    }
   ],
   "source": [
    "# Load the datasets\n",
    "carv_node_sale = pd.read_csv('carv_node_sale.csv', delimiter=';')\n",
    "avgprice = pd.read_csv('avgprice.csv', delimiter=';')\n",
    "\n",
    "# Display the first 5 rows of both datasets\n",
    "print(\"Carv Node Sale Dataset:\")\n",
    "print(carv_node_sale.head())\n",
    "print(\"\\nAvgprice Dataset:\")\n",
    "print(avgprice.head())"
   ]
  },
  {
   "cell_type": "markdown",
   "id": "2aa9dd8e-6517-409a-a075-de50d1aff55a",
   "metadata": {},
   "source": [
    "## Calculating Token Retention Rate\n",
    "The token retention rate represents the percentage of airdropped tokens that were sold. To calculate this, we sum the total airdropped tokens and the sold tokens, then compute the retention rate as the ratio between sold and airdropped tokens."
   ]
  },
  {
   "cell_type": "code",
   "execution_count": 71,
   "id": "651cd3d5-c565-4049-ac44-4ef3e3a16518",
   "metadata": {},
   "outputs": [
    {
     "name": "stdout",
     "output_type": "stream",
     "text": [
      "\n",
      "Token Retention Rate: 1.23%\n"
     ]
    }
   ],
   "source": [
    "# 1. Calculating Token Retention Rate\n",
    "# Total amount of airdropped tokens\n",
    "total_airdrop_tokens = carv_node_sale['TOTALSOLD'].sum()\n",
    "\n",
    "# Total amount of sold tokens (nodes purchased)\n",
    "total_tokens_sold = avgprice['nodes'].sum()\n",
    "\n",
    "# Calculating token retention rate\n",
    "retention_rate = (total_tokens_sold / total_airdrop_tokens) * 100\n",
    "print(f\"\\nToken Retention Rate: {retention_rate:.2f}%\")"
   ]
  },
  {
   "cell_type": "markdown",
   "id": "b6bf346b-85d7-450f-984a-c2af5395ba87",
   "metadata": {},
   "source": [
    "***Report:***\n",
    "The token retention rate is calculated by comparing the total number of tokens sold with the total number of tokens airdropped. This rate helps to understand how much of the airdropped supply has been utilized or traded. A higher retention rate indicates better engagement from the users with the airdropped tokens."
   ]
  },
  {
   "cell_type": "markdown",
   "id": "01181943-40b5-478f-a5f8-fb8f3a509935",
   "metadata": {},
   "source": [
    "## User Segmentation Based on Token Purchases\n",
    "In this step, we segment users based on the number of tokens they claimed. This segmentation helps to categorize users who claimed a small number of tokens versus those who claimed a larger amount."
   ]
  },
  {
   "cell_type": "code",
   "execution_count": 75,
   "id": "8d8946e2-487e-4ce8-98c4-fdaaf74aeddd",
   "metadata": {},
   "outputs": [
    {
     "name": "stdout",
     "output_type": "stream",
     "text": [
      "\n",
      "Segmented Users Based on Token Purchases:\n",
      "                                        BUYER segment_by_tokens\n",
      "0  0xc402ae3f61d6eb98b85ee7c11ed5f6a13e314af0               0-5\n",
      "1  0x6a8b14912fe74baedd196e1904d0d2a9b29f966f             21-50\n",
      "2  0x16edbf03fa522d5cce0064e76405237f3234b53a             21-50\n",
      "3  0x0a9be70a67e8b7e20b1a67881b963fabf4babeb2               0-5\n",
      "4  0x7e0867be60257243586431cde9d8623eff1aacd9               0-5\n"
     ]
    }
   ],
   "source": [
    "# Segmentation based on token purchases\n",
    "avgprice['segment_by_tokens'] = pd.cut(avgprice['nodes'], bins=[0, 5, 10, 20, 50, 100, float('inf')],\n",
    "                                       labels=['0-5', '6-10', '11-20', '21-50', '51-100', '100+'])\n",
    "\n",
    "# Display the segmented users\n",
    "print(\"\\nSegmented Users Based on Token Purchases:\")\n",
    "print(avgprice[['BUYER', 'segment_by_tokens']].head())"
   ]
  },
  {
   "cell_type": "markdown",
   "id": "6b5f4962-bd16-430b-9798-14632173a89c",
   "metadata": {},
   "source": [
    "***Report:***\n",
    "We segment users into different categories based on the number of tokens they purchased. The segmentation bins are: 0-5 tokens, 6-10 tokens, 11-20 tokens, 21-50 tokens, 51-100 tokens, and over 100 tokens. This allows us to analyze how different user segments engaged with the airdrop in terms of the number of tokens they claimed."
   ]
  },
  {
   "cell_type": "markdown",
   "id": "ac9c878b-b05c-4915-9790-83185fdd0683",
   "metadata": {},
   "source": [
    "## User Segmentation Based on Payment Amount\n",
    "This step segments users based on the amount they paid for the tokens. This segmentation shows us how much each user has invested and provides insights into high-spending users."
   ]
  },
  {
   "cell_type": "code",
   "execution_count": 79,
   "id": "6805f548-11b5-4e6d-91e3-d756c43d24aa",
   "metadata": {},
   "outputs": [
    {
     "name": "stdout",
     "output_type": "stream",
     "text": [
      "\n",
      "Segmented Users Based on Payment Amount:\n",
      "                                        BUYER segment_by_spending\n",
      "0  0xc402ae3f61d6eb98b85ee7c11ed5f6a13e314af0                 0-5\n",
      "1  0x6a8b14912fe74baedd196e1904d0d2a9b29f966f               11-20\n",
      "2  0x16edbf03fa522d5cce0064e76405237f3234b53a                6-10\n",
      "3  0x0a9be70a67e8b7e20b1a67881b963fabf4babeb2                 0-5\n",
      "4  0x7e0867be60257243586431cde9d8623eff1aacd9                 0-5\n"
     ]
    }
   ],
   "source": [
    "# Segmentation based on the payment amount\n",
    "avgprice['segment_by_spending'] = pd.cut(avgprice['TOTALPAID'], bins=[0, 5, 10, 20, 50, 100, float('inf')],\n",
    "                                         labels=['0-5', '6-10', '11-20', '21-50', '51-100', '100+'])\n",
    "\n",
    "# Display the segmented users\n",
    "print(\"\\nSegmented Users Based on Payment Amount:\")\n",
    "print(avgprice[['BUYER', 'segment_by_spending']].head())"
   ]
  },
  {
   "cell_type": "markdown",
   "id": "2aaffd0e-abd0-44db-8892-7caaeb3d659f",
   "metadata": {},
   "source": [
    "***Report:***\n",
    "Users are segmented based on the amount they spent on the airdrop. Segments include: 0-5, 6-10, 11-20, 21-50, 51-100, and 100+ units of currency. This segmentation allows us to identify the high-value users who have contributed more financially to the airdrop."
   ]
  },
  {
   "cell_type": "markdown",
   "id": "a974f3e2-e504-4286-99d9-ff4aaa23692b",
   "metadata": {},
   "source": [
    "## Analyzing Token Retention Across Payment Segments\n",
    "We now analyze how the retention rate varies across different payment segments. Visualizing this helps to understand if higher spenders are more likely to retain their tokens."
   ]
  },
  {
   "cell_type": "code",
   "execution_count": 83,
   "id": "149cd5e2-bd8f-499f-b14e-c4f291db0abf",
   "metadata": {},
   "outputs": [
    {
     "data": {
      "image/png": "[encoded data removed]",
      "text/plain": [
       "<Figure size 1200x600 with 1 Axes>"
      ]
     },
     "metadata": {},
     "output_type": "display_data"
    }
   ],
   "source": [
    "# Visualizing the retention rate across payment segments\n",
    "plt.figure(figsize=(12, 6))\n",
    "sns.boxplot(data=avgprice, x='segment_by_spending', y='TOTALPAID', palette='viridis')\n",
    "plt.title(\"Token Retention Across Payment Segments\")\n",
    "plt.xlabel('Payment Segment')\n",
    "plt.ylabel('Total Payment')\n",
    "plt.show()"
   ]
  },
  {
   "cell_type": "markdown",
   "id": "7f7ea29f-c5b5-4fc8-bb5f-d47827d0c460",
   "metadata": {},
   "source": [
    "***Report:***\n",
    "This visualization shows the relationship between the total payment amount and token retention. By visualizing the distribution of token retention across payment segments, we can assess if higher spenders are more likely to retain their tokens, which can inform future airdrop strategies."
   ]
  },
  {
   "cell_type": "markdown",
   "id": "401ecae0-04b2-4b04-9476-1af477419fd0",
   "metadata": {},
   "source": [
    "## Recommendations for Improving Airdrop Performance\n",
    "Based on the analysis, we propose strategies for improving the effectiveness of future airdrops. These strategies focus on targeting high-value users and ensuring more effective engagement."
   ]
  },
  {
   "cell_type": "code",
   "execution_count": 87,
   "id": "064d3486-72de-4234-920d-714de4261987",
   "metadata": {},
   "outputs": [
    {
     "name": "stdout",
     "output_type": "stream",
     "text": [
      "\n",
      "Recommendations:\n",
      "1. Segment users more precisely to tailor airdrop strategies for each group.\n",
      "2. Provide additional tokens or incentives for high-spending users to encourage further engagement.\n",
      "3. Include staked tokens and tokens added to liquidity pools in the airdrop calculation to better assess token usage.\n",
      "4. Adjust airdrop rates to incentivize users who stake their tokens or add them to liquidity pools.\n"
     ]
    }
   ],
   "source": [
    "# Recommendations for improving airdrop performance\n",
    "print(\"\\nRecommendations:\")\n",
    "print(\"1. Segment users more precisely to tailor airdrop strategies for each group.\")\n",
    "print(\"2. Provide additional tokens or incentives for high-spending users to encourage further engagement.\")\n",
    "print(\"3. Include staked tokens and tokens added to liquidity pools in the airdrop calculation to better assess token usage.\")\n",
    "print(\"4. Adjust airdrop rates to incentivize users who stake their tokens or add them to liquidity pools.\")"
   ]
  },
  {
   "cell_type": "markdown",
   "id": "37973853-f240-4bb5-81b1-59f63f43c63c",
   "metadata": {},
   "source": [
    "***Report:***\n",
    "Several recommendations were made to improve the airdrop performance:\n",
    "\n",
    "- ***Precise User Segmentation:*** Segmenting users more specifically will allow for more targeted airdrop strategies.\n",
    "- ***Incentivizing High Spenders:*** Offering extra rewards or tokens to high-spending users could encourage more engagement.\n",
    "- ***Incorporating Staked Tokens:*** Considering staked tokens and those in liquidity pools would provide a more accurate reflection of token usage.\n",
    "- ***Adjusting Airdrop Rates:*** Adjusting the airdrop distribution rates to reward token stakers and liquidity providers could improve the retention rate."
   ]
  },
  {
   "cell_type": "markdown",
   "id": "264463ed-aa62-4964-8d11-69e11340b068",
   "metadata": {},
   "source": [
    "## Conclusion\n",
    "In this analysis, we calculated the token retention rate for Carv’s airdrop and segmented the users based on various characteristics such as the number of tokens claimed and the payment amounts. We also provided several recommendations for improving future airdrop campaigns. These insights can help the Carv team to optimize their airdrop strategy and achieve better user engagement in future distributions."
   ]
  },
  {
   "cell_type": "code",
   "execution_count": null,
   "id": "3913b117-5e97-485a-a430-73a27d08ffec",
   "metadata": {},
   "outputs": [],
   "source": []
  }
 ],
 "metadata": {
  "kernelspec": {
   "display_name": "Python 3 (ipykernel)",
   "language": "python",
   "name": "python3"
  },
  "language_info": {
   "codemirror_mode": {
    "name": "ipython",
    "version": 3
   },
   "file_extension": ".py",
   "mimetype": "text/x-python",
   "name": "python",
   "nbconvert_exporter": "python",
   "pygments_lexer": "ipython3",
   "version": "3.12.4"
  }
 },
 "nbformat": 4,
 "nbformat_minor": 5
}
